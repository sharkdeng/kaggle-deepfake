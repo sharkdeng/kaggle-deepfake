# Code to Make the database


# Code to clean the database
## Step 1: remove incomplete(< 10 frames) videos (move 10 frames videos to another folder)


folders = glob.glob('/Users/dph/downloads/kaggle-deepfake/output/dfdc*')  # src folder
prefix = '/Users/dph/downloads/kaggle-deepfake/outputs/' # destination folder



incomplete_videos = []

for f in folders:
    videos = os.listdir(f)
    videos = [v for v in videos if not v.startswith('.') ]
    for v in videos:
        img_dir = os.listdir(os.path.join(f, v))
        img_dir = [im for im in img_dir if not im.startswith('.') ]
        if len(img_dir) == 10:
        
            src_path = os.path.join(f, v)
            dest_path = os.path.join(prefix, src_path[44:])
            
            # create folder
            if not os.path.exists(os.path.join(f, v)[44:]):
                os.makedirs(os.path.join(f, v)[44:])
            # move folder to here 
            shutil.move(src_path, dest_path)
            
            incomplete_videos.append(os.path.join(f, v))
            
            

## Step 2: remove non faces
