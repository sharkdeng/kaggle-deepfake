{
 "cells": [
  {
   "cell_type": "markdown",
   "metadata": {},
   "source": [
    "# Inference Kernel Demo\n",
    "\n",
    "This is the kernel I’ve used for my recent submissions. It takes about 5-6 hours on the test set, using only CPU. \n",
    "\n",
    "I’ve provided this kernel because a lot of people have problems making submissions. This method works and has never errored out for me. (Although I haven't tried making a submission using the GPU yet -- so no guarantees there.)\n",
    "\n",
    "It uses BlazeFace for face extraction (see also [my BlazeFace kernel](https://www.kaggle.com/humananalog/starter-blazeface-pytorch)) and ResNeXt50 as the classifier model.\n",
    "\n",
    "We take the average prediction over 17 frames from each video. (Why 17? Using more frames makes the kernel slower, but doesn't appear to improve the score much. I used an odd number so we don't always land on even frames.)\n",
    "\n",
    "**Please use this kernel only to learn from...** Included is the checkpoint for a ResNeXt50 model that hasn't really been trained very well yet. I'm sure you can improve on it by training your own model!\n",
    "\n",
    "You could use the included trained weights to get yourself an easy top-50 score on the leaderboard (as of 24 Jan 2020) but it’s nicer to use it as a starting point for your own work. :-)"
   ]
  },
  {
   "cell_type": "code",
   "execution_count": 1,
   "metadata": {
    "_cell_guid": "b1076dfc-b9ad-4769-8c92-a6c4dae69d19",
    "_uuid": "8f2839f25d086af736a60e9eeb907d3b93b6e0e5"
   },
   "outputs": [],
   "source": [
    "import os, sys, time\n",
    "import cv2\n",
    "import numpy as np\n",
    "import pandas as pd\n",
    "\n",
    "import torch\n",
    "import torch.nn as nn\n",
    "import torch.nn.functional as F\n",
    "\n",
    "%matplotlib inline\n",
    "import matplotlib.pyplot as plt\n",
    "\n",
    "from PIL import Image, ImageStat, ImageEnhance"
   ]
  },
  {
   "cell_type": "markdown",
   "metadata": {},
   "source": [
    "## Get the test videos"
   ]
  },
  {
   "cell_type": "code",
   "execution_count": 2,
   "metadata": {
    "_cell_guid": "79c7e3d0-c299-4dcb-8224-4455121ee9b0",
    "_uuid": "d629ff2d2480ee46fbb7e2d37f6b5fab8052498a"
   },
   "outputs": [
    {
     "data": {
      "text/plain": [
       "400"
      ]
     },
     "execution_count": 2,
     "metadata": {},
     "output_type": "execute_result"
    }
   ],
   "source": [
    "test_dir = \"/kaggle/input/deepfake-detection-challenge/test_videos/\"\n",
    "\n",
    "test_videos = sorted([x for x in os.listdir(test_dir) if x[-4:] == \".mp4\"])\n",
    "len(test_videos)"
   ]
  },
  {
   "cell_type": "markdown",
   "metadata": {},
   "source": [
    "## Create helpers"
   ]
  },
  {
   "cell_type": "code",
   "execution_count": 3,
   "metadata": {},
   "outputs": [
    {
     "name": "stdout",
     "output_type": "stream",
     "text": [
      "PyTorch version: 1.3.0\n",
      "CUDA version: 10.0.130\n",
      "cuDNN version: 7603\n"
     ]
    }
   ],
   "source": [
    "print(\"PyTorch version:\", torch.__version__)\n",
    "print(\"CUDA version:\", torch.version.cuda)\n",
    "print(\"cuDNN version:\", torch.backends.cudnn.version())"
   ]
  },
  {
   "cell_type": "code",
   "execution_count": 4,
   "metadata": {},
   "outputs": [
    {
     "data": {
      "text/plain": [
       "device(type='cuda', index=0)"
      ]
     },
     "execution_count": 4,
     "metadata": {},
     "output_type": "execute_result"
    }
   ],
   "source": [
    "gpu = torch.device(\"cuda:0\" if torch.cuda.is_available() else \"cpu\")\n",
    "gpu"
   ]
  },
  {
   "cell_type": "code",
   "execution_count": 5,
   "metadata": {},
   "outputs": [],
   "source": [
    "import sys\n",
    "sys.path.insert(0, \"/kaggle/input/blazeface-pytorch\")\n",
    "\n",
    "from blazeface import BlazeFace\n",
    "facedet = BlazeFace().to(gpu)\n",
    "facedet.load_weights(\"/kaggle/input/blazeface-pytorch/blazeface.pth\")\n",
    "facedet.load_anchors(\"/kaggle/input/blazeface-pytorch/anchors.npy\")\n",
    "_ = facedet.train(False)"
   ]
  },
  {
   "cell_type": "code",
   "execution_count": 6,
   "metadata": {},
   "outputs": [],
   "source": [
    "def read_frames(path):\n",
    "    v_cap = cv2.VideoCapture(path)\n",
    "    v_int = int(v_cap.get(cv2.CAP_PROP_FRAME_COUNT))\n",
    "    if v_int <= 0: return None\n",
    "\n",
    "    frame_idxs = np.linspace(0, v_int - 1, frames_per_vid, endpoint=True, dtype=np.int)\n",
    "\n",
    "    result = []\n",
    "    for i in range(v_int):\n",
    "        ret = v_cap.grab()\n",
    "        if ret is None:\n",
    "            continue\n",
    "            \n",
    "        if i in frame_idxs:\n",
    "            ret, frame = v_cap.retrieve()\n",
    "            if ret is None or frame is None:\n",
    "                continue\n",
    "    \n",
    "            frame = cv2.cvtColor(frame, cv2.COLOR_BGR2RGB)\n",
    "            result.append(frame)\n",
    "            \n",
    "    v_cap.release()\n",
    "    return np.array(result)"
   ]
  },
  {
   "cell_type": "code",
   "execution_count": 7,
   "metadata": {},
   "outputs": [],
   "source": [
    "class FaceExtractor:\n",
    "    \n",
    "    def __init__(self, video_read_fn, facedet):\n",
    "\n",
    "        self.video_read_fn = video_read_fn\n",
    "        self.facedet = facedet\n",
    "    \n",
    "    def process_video(self, video_path):\n",
    "        \"\"\"Convenience method for doing face extraction on a single video.\"\"\"\n",
    " \n",
    "        result = []\n",
    "    \n",
    "        target_size = self.facedet.input_size\n",
    "        \n",
    "        # 1 - get frames\n",
    "        frames = self.video_read_fn(video_path)\n",
    "        # Error? Then skip this video.\n",
    "        if frames is None: return result\n",
    "            \n",
    "            \n",
    "        # 2 - split the frames into several tiles. Resize the tiles to 128x128.\n",
    "        tiles, resize_info = self._tile_frames(frames, target_size)\n",
    "        \n",
    "        \n",
    "        # 3 - Run the face detector. The result is a list of PyTorch tensors, \n",
    "        # one for each image in the batch.\n",
    "        detections = self.facedet.predict_on_batch(tiles, apply_nms=False)\n",
    "        \n",
    "        # 3 - convert the detections from 128x128 back to the original frame size.\n",
    "        detections = self._resize_detections(detections, target_size, resize_info)\n",
    "        \n",
    "        \n",
    "        # 4 - Because we have several tiles for each frame, combine the predictions\n",
    "        # from these tiles. The result is a list of PyTorch tensors, but now one\n",
    "        # for each frame (rather than each tile).\n",
    "        num_frames = frames.shape[0]\n",
    "        frame_size = (frames.shape[2], frames.shape[1])\n",
    "        detections = self._untile_detections(num_frames, frame_size, detections)\n",
    "        \n",
    "         \n",
    "        # 5 - The same face may have been detected in multiple tiles, so filter out\n",
    "        # overlapping detections. This is done separately for each frame.\n",
    "        detections = self.facedet.nms(detections)\n",
    "        \n",
    "        \n",
    "        for i in range(len(detections)):\n",
    "            # Crop the faces out of the original frame.\n",
    "            faces = self._add_margin_to_detections(detections[i], frame_size, 0.2)\n",
    "            faces = self._crop_faces(frames[i], faces)\n",
    "\n",
    "            # Add additional information about the frame and detections.\n",
    "            scores = list(detections[i][:, 16].cpu().numpy())\n",
    "            frame_dict = { \"frame_w\": frame_size[0],\n",
    "                            \"frame_h\": frame_size[1],\n",
    "                            \"faces\": faces, \n",
    "                            \"scores\": scores }\n",
    "            result.append(frame_dict)\n",
    "        \n",
    "        \n",
    "        return result\n",
    "\n",
    "\n",
    "    def _tile_frames(self, frames, target_size):\n",
    "\n",
    "        num_frames, H, W, _ = frames.shape\n",
    "\n",
    "        # Settings for 6 overlapping windows:\n",
    "        # split_size = 720\n",
    "        # x_step = 480\n",
    "        # y_step = 360\n",
    "        # num_v = 2\n",
    "        # num_h = 3\n",
    "\n",
    "        # Settings for 2 overlapping windows:\n",
    "        # split_size = min(H, W)\n",
    "        # x_step = W - split_size\n",
    "        # y_step = H - split_size\n",
    "        # num_v = 1\n",
    "        # num_h = 2 if W > H else 1\n",
    "\n",
    "        split_size = min(H, W)\n",
    "        x_step = (W - split_size) // 2\n",
    "        y_step = (H - split_size) // 2\n",
    "        num_v = 1\n",
    "        num_h = 3 if W > H else 1\n",
    "\n",
    "        splits = np.zeros((num_frames * num_v * num_h, target_size[1], target_size[0], 3), dtype=np.uint8)\n",
    "\n",
    "        i = 0\n",
    "        for f in range(num_frames):\n",
    "            y = 0\n",
    "            for v in range(num_v):\n",
    "                x = 0\n",
    "                for h in range(num_h):\n",
    "                    crop = frames[f, y:y+split_size, x:x+split_size, :]\n",
    "                    splits[i] = cv2.resize(crop, target_size, interpolation=cv2.INTER_AREA)\n",
    "                    x += x_step\n",
    "                    i += 1\n",
    "                y += y_step\n",
    "\n",
    "        resize_info = [split_size / target_size[0], split_size / target_size[1], 0, 0]\n",
    "        return splits, resize_info\n",
    "\n",
    "    def _resize_detections(self, detections, target_size, resize_info):\n",
    "\n",
    "        projected = []\n",
    "        target_w, target_h = target_size\n",
    "        scale_w, scale_h, offset_x, offset_y = resize_info\n",
    "\n",
    "        for i in range(len(detections)):\n",
    "            detection = detections[i].clone()\n",
    "\n",
    "            # ymin, xmin, ymax, xmax\n",
    "            for k in range(2):\n",
    "                detection[:, k*2    ] = (detection[:, k*2    ] * target_h - offset_y) * scale_h\n",
    "                detection[:, k*2 + 1] = (detection[:, k*2 + 1] * target_w - offset_x) * scale_w\n",
    "\n",
    "            # keypoints are x,y\n",
    "            for k in range(2, 8):\n",
    "                detection[:, k*2    ] = (detection[:, k*2    ] * target_w - offset_x) * scale_w\n",
    "                detection[:, k*2 + 1] = (detection[:, k*2 + 1] * target_h - offset_y) * scale_h\n",
    "\n",
    "            projected.append(detection)\n",
    "\n",
    "        return projected    \n",
    "    \n",
    "    def _untile_detections(self, num_frames, frame_size, detections):\n",
    "\n",
    "        combined_detections = []\n",
    "\n",
    "        W, H = frame_size\n",
    "        split_size = min(H, W)\n",
    "        x_step = (W - split_size) // 2\n",
    "        y_step = (H - split_size) // 2\n",
    "        num_v = 1\n",
    "        num_h = 3 if W > H else 1\n",
    "\n",
    "        i = 0\n",
    "        for f in range(num_frames):\n",
    "            detections_for_frame = []\n",
    "            y = 0\n",
    "            for v in range(num_v):\n",
    "                x = 0\n",
    "                for h in range(num_h):\n",
    "                    # Adjust the coordinates based on the split positions.\n",
    "                    detection = detections[i].clone()\n",
    "                    if detection.shape[0] > 0:\n",
    "                        for k in range(2):\n",
    "                            detection[:, k*2    ] += y\n",
    "                            detection[:, k*2 + 1] += x\n",
    "                        for k in range(2, 8):\n",
    "                            detection[:, k*2    ] += x\n",
    "                            detection[:, k*2 + 1] += y\n",
    "\n",
    "                    detections_for_frame.append(detection)\n",
    "                    x += x_step\n",
    "                    i += 1\n",
    "                y += y_step\n",
    "\n",
    "            combined_detections.append(torch.cat(detections_for_frame))\n",
    "\n",
    "        return combined_detections\n",
    "    \n",
    "    def _add_margin_to_detections(self, detections, frame_size, margin=0.2):\n",
    "\n",
    "        offset = torch.round(margin * (detections[:, 2] - detections[:, 0]))\n",
    "        detections = detections.clone()\n",
    "        detections[:, 0] = torch.clamp(detections[:, 0] - offset*2, min=0)            # ymin\n",
    "        detections[:, 1] = torch.clamp(detections[:, 1] - offset, min=0)              # xmin\n",
    "        detections[:, 2] = torch.clamp(detections[:, 2] + offset, max=frame_size[1])  # ymax\n",
    "        detections[:, 3] = torch.clamp(detections[:, 3] + offset, max=frame_size[0])  # xmax\n",
    "        return detections\n",
    "    \n",
    "    def _crop_faces(self, frame, detections):\n",
    "        \"\"\"Copies the face region(s) from the given frame into a set\n",
    "        of new NumPy arrays.\n",
    "\n",
    "        Arguments:\n",
    "            frame: a NumPy array of shape (H, W, 3)\n",
    "            detections: a PyTorch tensor of shape (num_detections, 17)\n",
    "\n",
    "        Returns a list of NumPy arrays, one for each face crop. If there\n",
    "        are no faces detected for this frame, returns an empty list.\n",
    "        \"\"\"\n",
    "        faces = []\n",
    "        for i in range(len(detections)):\n",
    "            ymin, xmin, ymax, xmax = detections[i, :4].cpu().numpy().astype(np.int)\n",
    "            face = frame[ymin:ymax, xmin:xmax, :]\n",
    "            faces.append(face)\n",
    "        return faces\n",
    "\n",
    "    def remove_large_crops(self, crops, pct=0.1):\n",
    "\n",
    "        for i in range(len(crops)):\n",
    "            frame_data = crops[i]\n",
    "            video_area = frame_data[\"frame_w\"] * frame_data[\"frame_h\"]\n",
    "            faces = frame_data[\"faces\"]\n",
    "            scores = frame_data[\"scores\"]\n",
    "            new_faces = []\n",
    "            new_scores = []\n",
    "            for j in range(len(faces)):\n",
    "                face = faces[j]\n",
    "                face_H, face_W, _ = face.shape\n",
    "                face_area = face_H * face_W\n",
    "                if face_area / video_area < 0.1:\n",
    "                    new_faces.append(face)\n",
    "                    new_scores.append(scores[j])\n",
    "            frame_data[\"faces\"] = new_faces\n",
    "            frame_data[\"scores\"] = new_scores\n",
    "\n",
    "    def keep_only_best_face(self, crops):\n",
    "\n",
    "        for i in range(len(crops)):\n",
    "            frame_data = crops[i]\n",
    "            if len(frame_data[\"faces\"]) > 0:\n",
    "                frame_data[\"faces\"] = frame_data[\"faces\"][:1]\n",
    "                frame_data[\"scores\"] = frame_data[\"scores\"][:1]\n",
    "\n",
    "    # TODO: def filter_likely_false_positives(self, crops):\n",
    "    #   if only some frames have more than 1 face, it's likely a false positive\n",
    "    #   if most frames have more than 1 face, it's probably two people\n",
    "    #   so find the % of frames with > 1 face; if > 0.X, keep the two best faces\n",
    "\n",
    "    # TODO: def filter_by_score(self, crops, min_score) to remove any\n",
    "    # crops with a confidence score lower than min_score\n",
    "\n",
    "    # TODO: def sort_by_histogram(self, crops) for videos with 2 people."
   ]
  },
  {
   "cell_type": "code",
   "execution_count": 8,
   "metadata": {},
   "outputs": [],
   "source": [
    "frames_per_vid = 64\n",
    "input_size = 224\n",
    "\n",
    "video_read_fn = lambda x: read_frames(x)\n",
    "face_extractor = FaceExtractor(video_read_fn, facedet)"
   ]
  },
  {
   "cell_type": "code",
   "execution_count": 9,
   "metadata": {},
   "outputs": [],
   "source": [
    "from torchvision.transforms import Normalize\n",
    "\n",
    "mean = [0.485, 0.456, 0.406]\n",
    "std = [0.229, 0.224, 0.225]\n",
    "normalize_transform = Normalize(mean, std)"
   ]
  },
  {
   "cell_type": "code",
   "execution_count": 10,
   "metadata": {},
   "outputs": [],
   "source": [
    "def isotropically_resize_image(img, size, resample=cv2.INTER_AREA):\n",
    "    h, w = img.shape[:2]\n",
    "    if w > h:\n",
    "        h = h * size // w\n",
    "        w = size\n",
    "    else:\n",
    "        w = w * size // h\n",
    "        h = size\n",
    "\n",
    "    resized = cv2.resize(img, (w, h), interpolation=resample)\n",
    "    return resized\n",
    "\n",
    "\n",
    "def make_square_image(img):\n",
    "    h, w = img.shape[:2]\n",
    "    size = max(h, w)\n",
    "    t = 0\n",
    "    b = size - h\n",
    "    l = 0\n",
    "    r = size - w\n",
    "    return cv2.copyMakeBorder(img, t, b, l, r, cv2.BORDER_CONSTANT, value=0)"
   ]
  },
  {
   "cell_type": "code",
   "execution_count": 11,
   "metadata": {},
   "outputs": [],
   "source": [
    "import torch.nn as nn\n",
    "import torchvision.models as models\n",
    "\n",
    "class MyResNeXt(models.resnet.ResNet):\n",
    "    def __init__(self, training=True):\n",
    "        super(MyResNeXt, self).__init__(block=models.resnet.Bottleneck,\n",
    "                                        layers=[3, 4, 6, 3], \n",
    "                                        groups=32, \n",
    "                                        width_per_group=4)\n",
    "        self.fc = nn.Linear(2048, 1)\n",
    "        in_features = self.fc.in_features\n",
    "    \n",
    "#         self.fc = nn.Sequential(\n",
    "#             nn.BatchNorm1d(in_features),\n",
    "#             nn.Dropout(),\n",
    "#             nn.Linear(in_features, in_features//2),\n",
    "#             nn.ReLU(),\n",
    "            \n",
    "#             nn.BatchNorm1d(in_features//2),\n",
    "#             nn.Dropout(),\n",
    "#             nn.Linear(in_features//2, in_features//4),\n",
    "#             nn.ReLU(),\n",
    "            \n",
    "#             nn.BatchNorm1d(in_features//4),\n",
    "#             nn.Dropout(),\n",
    "#             nn.Linear(in_features//4, 1),\n",
    "#         )\n"
   ]
  },
  {
   "cell_type": "code",
   "execution_count": 12,
   "metadata": {},
   "outputs": [],
   "source": [
    "checkpoint = torch.load('../input/dfdcresnetxt2020327/best_model_.pth', map_location=gpu)\n",
    "\n",
    "model = MyResNeXt().to(gpu)\n",
    "model.load_state_dict(checkpoint['state_dict'])\n",
    "_ = model.eval()\n",
    "\n",
    "del checkpoint"
   ]
  },
  {
   "cell_type": "markdown",
   "metadata": {},
   "source": [
    "## Prediction loop"
   ]
  },
  {
   "cell_type": "code",
   "execution_count": 13,
   "metadata": {},
   "outputs": [],
   "source": [
    "def predict_on_video(video_path, batch_size):\n",
    "    try:\n",
    "        # Find the faces for N frames in the video.\n",
    "        faces = face_extractor.process_video(video_path)\n",
    "\n",
    "        # Only look at one face per frame.\n",
    "        face_extractor.keep_only_best_face(faces)\n",
    "        \n",
    "        if len(faces) > 0:\n",
    "            # NOTE: When running on the CPU, the batch size must be fixed\n",
    "            # or else memory usage will blow up. (Bug in PyTorch?)\n",
    "            x = np.zeros((batch_size, input_size, input_size, 3), dtype=np.uint8)\n",
    "\n",
    "            # If we found any faces, prepare them for the model.\n",
    "            n = 0\n",
    "            for frame_data in faces:\n",
    "                for face in frame_data[\"faces\"]:\n",
    "                    # Resize to the model's required input size.\n",
    "                    # We keep the aspect ratio intact and add zero\n",
    "                    # padding if necessary.                    \n",
    "                    resized_face = isotropically_resize_image(face, input_size)\n",
    "                    resized_face = make_square_image(resized_face)\n",
    "\n",
    "                    if n < batch_size:\n",
    "                        x[n] = resized_face\n",
    "                        n += 1\n",
    "                    else:\n",
    "                        print(\"WARNING: have %d faces but batch size is %d\" % (n, batch_size))\n",
    "                    \n",
    "                    # Test time augmentation: horizontal flips.\n",
    "                    # TODO: not sure yet if this helps or not\n",
    "                    #x[n] = cv2.flip(resized_face, 1)\n",
    "                    #n += 1\n",
    "\n",
    "            if n > 0:\n",
    "                x = torch.tensor(x, device=gpu).float()\n",
    "\n",
    "                # Preprocess the images.\n",
    "                x = x.permute((0, 3, 1, 2))\n",
    "\n",
    "                for i in range(len(x)):\n",
    "                    x[i] = normalize_transform(x[i] / 255.)\n",
    "\n",
    "                # Make a prediction, then take the average.\n",
    "                with torch.no_grad():\n",
    "                    y_pred = model(x)\n",
    "                    y_pred = torch.sigmoid(y_pred.squeeze())\n",
    "                    return y_pred[:n].mean().item()\n",
    "\n",
    "    except Exception as e:\n",
    "        print(\"Prediction error on video %s: %s\" % (video_path, str(e)))\n",
    "\n",
    "    return 0.5"
   ]
  },
  {
   "cell_type": "code",
   "execution_count": 14,
   "metadata": {},
   "outputs": [],
   "source": [
    "from concurrent.futures import ThreadPoolExecutor\n",
    "\n",
    "def predict_on_video_set(videos, num_workers):\n",
    "    def process_file(i):\n",
    "        filename = videos[i]\n",
    "        y_pred = predict_on_video(os.path.join(test_dir, filename), batch_size=frames_per_vid)\n",
    "        return y_pred\n",
    "\n",
    "    with ThreadPoolExecutor(max_workers=num_workers) as ex:\n",
    "        predictions = ex.map(process_file, range(len(videos)))\n",
    "\n",
    "    return list(predictions)"
   ]
  },
  {
   "cell_type": "markdown",
   "metadata": {},
   "source": [
    "## Speed test\n",
    "\n",
    "The leaderboard submission must finish within 9 hours. With 4000 test videos, that is `9*60*60/4000 = 8.1` seconds per video. So if the average time per video is greater than ~8 seconds, the kernel will be too slow!"
   ]
  },
  {
   "cell_type": "code",
   "execution_count": 15,
   "metadata": {},
   "outputs": [],
   "source": [
    "speed_test = True  # you have to enable this manually"
   ]
  },
  {
   "cell_type": "code",
   "execution_count": 16,
   "metadata": {},
   "outputs": [
    {
     "name": "stdout",
     "output_type": "stream",
     "text": [
      "Elapsed 24.957580 sec. Average per video: 4.991516 sec.\n"
     ]
    }
   ],
   "source": [
    "if speed_test:\n",
    "    start_time = time.time()\n",
    "    speedtest_videos = test_videos[:5]\n",
    "    predictions = predict_on_video_set(speedtest_videos, num_workers=4)\n",
    "    elapsed = time.time() - start_time\n",
    "    print(\"Elapsed %f sec. Average per video: %f sec.\" % (elapsed, elapsed / len(speedtest_videos)))"
   ]
  },
  {
   "cell_type": "markdown",
   "metadata": {},
   "source": [
    "## Make the submission"
   ]
  },
  {
   "cell_type": "code",
   "execution_count": 17,
   "metadata": {},
   "outputs": [],
   "source": [
    "predictions = predict_on_video_set(test_videos, num_workers=4)"
   ]
  },
  {
   "cell_type": "code",
   "execution_count": 18,
   "metadata": {},
   "outputs": [],
   "source": [
    "submission_df = pd.DataFrame({\"filename\": test_videos, \"label\": predictions})"
   ]
  },
  {
   "cell_type": "code",
   "execution_count": 19,
   "metadata": {},
   "outputs": [
    {
     "data": {
      "text/plain": [
       "<matplotlib.axes._subplots.AxesSubplot at 0x7f8752da1ef0>"
      ]
     },
     "execution_count": 19,
     "metadata": {},
     "output_type": "execute_result"
    },
    {
     "data": {
      "image/png": "[encoded data removed]",
      "text/plain": [
       "<Figure size 432x288 with 1 Axes>"
      ]
     },
     "metadata": {
      "needs_background": "light"
     },
     "output_type": "display_data"
    }
   ],
   "source": [
    "import seaborn as sns\n",
    "sns.distplot(predictions)"
   ]
  },
  {
   "cell_type": "markdown",
   "metadata": {},
   "source": [
    "# post-processing\n",
    "clip (0.1, 0.9) <br>\n",
    "change 0.5 to 0.481"
   ]
  },
  {
   "cell_type": "code",
   "execution_count": 20,
   "metadata": {},
   "outputs": [],
   "source": [
    "# clip\n",
    "submission_df['label'] = submission_df['label'].clip(0.1, 0.9)"
   ]
  },
  {
   "cell_type": "code",
   "execution_count": 21,
   "metadata": {},
   "outputs": [
    {
     "data": {
      "text/plain": [
       "(array([118.,  10.,  12.,  13.,  13.,  20.,  14.,  17.,  29., 154.]),\n",
       " array([0.1 , 0.18, 0.26, 0.34, 0.42, 0.5 , 0.58, 0.66, 0.74, 0.82, 0.9 ]),\n",
       " <a list of 10 Patch objects>)"
      ]
     },
     "execution_count": 21,
     "metadata": {},
     "output_type": "execute_result"
    },
    {
     "data": {
      "image/png": "[encoded data removed]",
      "text/plain": [
       "<Figure size 432x288 with 1 Axes>"
      ]
     },
     "metadata": {
      "needs_background": "light"
     },
     "output_type": "display_data"
    }
   ],
   "source": [
    "# check clip\n",
    "plt.hist(submission_df['label'])"
   ]
  },
  {
   "cell_type": "code",
   "execution_count": 22,
   "metadata": {},
   "outputs": [],
   "source": [
    "# change 0.5 to 0.481\n",
    "submission_df = submission_df.replace(0.5, 0.481)"
   ]
  },
  {
   "cell_type": "code",
   "execution_count": 23,
   "metadata": {},
   "outputs": [],
   "source": [
    "# save the file\n",
    "submission_df.to_csv(\"submission.csv\", index=False)"
   ]
  },
  {
   "cell_type": "code",
   "execution_count": 24,
   "metadata": {},
   "outputs": [
    {
     "data": {
      "text/html": [
       "<div>\n",
       "<style scoped>\n",
       "    .dataframe tbody tr th:only-of-type {\n",
       "        vertical-align: middle;\n",
       "    }\n",
       "\n",
       "    .dataframe tbody tr th {\n",
       "        vertical-align: top;\n",
       "    }\n",
       "\n",
       "    .dataframe thead th {\n",
       "        text-align: right;\n",
       "    }\n",
       "</style>\n",
       "<table border=\"1\" class=\"dataframe\">\n",
       "  <thead>\n",
       "    <tr style=\"text-align: right;\">\n",
       "      <th></th>\n",
       "      <th>filename</th>\n",
       "      <th>label</th>\n",
       "    </tr>\n",
       "  </thead>\n",
       "  <tbody>\n",
       "    <tr>\n",
       "      <th>0</th>\n",
       "      <td>aassnaulhq.mp4</td>\n",
       "      <td>0.900000</td>\n",
       "    </tr>\n",
       "    <tr>\n",
       "      <th>1</th>\n",
       "      <td>aayfryxljh.mp4</td>\n",
       "      <td>0.100000</td>\n",
       "    </tr>\n",
       "    <tr>\n",
       "      <th>2</th>\n",
       "      <td>acazlolrpz.mp4</td>\n",
       "      <td>0.900000</td>\n",
       "    </tr>\n",
       "    <tr>\n",
       "      <th>3</th>\n",
       "      <td>adohdulfwb.mp4</td>\n",
       "      <td>0.100000</td>\n",
       "    </tr>\n",
       "    <tr>\n",
       "      <th>4</th>\n",
       "      <td>ahjnxtiamx.mp4</td>\n",
       "      <td>0.544563</td>\n",
       "    </tr>\n",
       "  </tbody>\n",
       "</table>\n",
       "</div>"
      ],
      "text/plain": [
       "         filename     label\n",
       "0  aassnaulhq.mp4  0.900000\n",
       "1  aayfryxljh.mp4  0.100000\n",
       "2  acazlolrpz.mp4  0.900000\n",
       "3  adohdulfwb.mp4  0.100000\n",
       "4  ahjnxtiamx.mp4  0.544563"
      ]
     },
     "execution_count": 24,
     "metadata": {},
     "output_type": "execute_result"
    }
   ],
   "source": [
    "# check submission\n",
    "df = pd.read_csv('submission.csv')\n",
    "df.head()"
   ]
  },
  {
   "cell_type": "code",
   "execution_count": 25,
   "metadata": {},
   "outputs": [
    {
     "data": {
      "text/plain": [
       "(array([118.,  10.,  12.,  13.,  15.,  18.,  14.,  17.,  29., 154.]),\n",
       " array([0.1 , 0.18, 0.26, 0.34, 0.42, 0.5 , 0.58, 0.66, 0.74, 0.82, 0.9 ]),\n",
       " <a list of 10 Patch objects>)"
      ]
     },
     "execution_count": 25,
     "metadata": {},
     "output_type": "execute_result"
    },
    {
     "data": {
      "image/png": "[encoded data removed]",
      "text/plain": [
       "<Figure size 432x288 with 1 Axes>"
      ]
     },
     "metadata": {
      "needs_background": "light"
     },
     "output_type": "display_data"
    }
   ],
   "source": [
    "plt.hist(df['label'])"
   ]
  }
 ],
 "metadata": {
  "kernelspec": {
   "display_name": "Python 3",
   "language": "python",
   "name": "python3"
  },
  "language_info": {
   "codemirror_mode": {
    "name": "ipython",
    "version": 3
   },
   "file_extension": ".py",
   "mimetype": "text/x-python",
   "name": "python",
   "nbconvert_exporter": "python",
   "pygments_lexer": "ipython3",
   "version": "3.6.6"
  }
 },
 "nbformat": 4,
 "nbformat_minor": 4
}
